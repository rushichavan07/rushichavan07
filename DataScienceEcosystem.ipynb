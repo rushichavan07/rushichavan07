{
 "cells": [
  {
   "cell_type": "markdown",
   "id": "2b62cb57-e6ca-4c02-8531-48f465300138",
   "metadata": {},
   "source": [
    "# Data Science Tools and Ecosystem"
   ]
  },
  {
   "cell_type": "markdown",
   "id": "24c2e88e-f920-450f-b5c0-c4693cce7f98",
   "metadata": {},
   "source": [
    "In this notebook, Data Science Tools and Ecosystem are summarized"
   ]
  },
  {
   "cell_type": "markdown",
   "id": "023fac90-d6e9-4470-bf5a-367c954eef22",
   "metadata": {},
   "source": [
    "Some of the popular languages that Data Scientists use are"
   ]
  },
  {
   "cell_type": "markdown",
   "id": "ed2be8c4-e9e0-4f6c-8575-0e5e7cde7696",
   "metadata": {},
   "source": [
    "1.Python\\\n",
    "2.R\\\n",
    "3.SQL\\\n",
    "4.Java\\\n",
    "5.C++\n"
   ]
  },
  {
   "cell_type": "markdown",
   "id": "f80797ef-6998-4d19-8154-d9d36fc3c2cb",
   "metadata": {},
   "source": [
    "Some of the commonly used libraries used by Data Scientists include:"
   ]
  },
  {
   "cell_type": "markdown",
   "id": "19c68efe-a90f-4392-9848-8d0d711c62fd",
   "metadata": {},
   "source": [
    "1.TensorFlow\\\n",
    "2.NumPy\\\n",
    "3.Scipy\\\n",
    "4.Pandas\\\n",
    "5.Keras\n"
   ]
  },
  {
   "cell_type": "markdown",
   "id": "dfd430e3-7a2e-4840-8db1-5449cbda8ff0",
   "metadata": {},
   "source": [
    "|Data Science Tools|\n",
    "|---------|\n",
    "|SAS|\n",
    "|Apache Hadoop|\n",
    "|TensorFlow|\n"
   ]
  },
  {
   "cell_type": "markdown",
   "id": "77664390-010e-42bb-be99-d7f49c801e3f",
   "metadata": {},
   "source": [
    "### Below are a few examples of evaluating arithmetic expressions in Python."
   ]
  },
  {
   "cell_type": "code",
   "execution_count": 4,
   "id": "0d188b14-c03e-4dd6-8875-a5eb05691944",
   "metadata": {
    "tags": []
   },
   "outputs": [
    {
     "data": {
      "text/plain": [
       "17"
      ]
     },
     "execution_count": 4,
     "metadata": {},
     "output_type": "execute_result"
    }
   ],
   "source": [
    "#this a simple arithmetic expression to mutiply then add integers.\n",
    "(3*4)+5"
   ]
  },
  {
   "cell_type": "code",
   "execution_count": 3,
   "id": "28deb195-36d4-4208-b75f-566da89e627e",
   "metadata": {
    "tags": []
   },
   "outputs": [
    {
     "data": {
      "text/plain": [
       "3.3333333333333335"
      ]
     },
     "execution_count": 3,
     "metadata": {},
     "output_type": "execute_result"
    }
   ],
   "source": [
    "#This will convert 200 minutes to hours by diving by 60\n",
    "200/60"
   ]
  },
  {
   "cell_type": "markdown",
   "id": "234cdcff-418f-4799-ae71-582ca2767c48",
   "metadata": {},
   "source": [
    "__Objective__\n",
    "* List popular languages for Data Science\n",
    "* List popular libraries for Data Science\n",
    "* List of well known Data Science Tools\n",
    "* How to provide comments in the cell"
   ]
  },
  {
   "cell_type": "markdown",
   "id": "2b03b464-816a-4c7f-9afb-f8df5572a91e",
   "metadata": {},
   "source": [
    "## Author\n",
    "Rushikesh Chavan"
   ]
  }
 ],
 "metadata": {
  "kernelspec": {
   "display_name": "Python",
   "language": "python",
   "name": "conda-env-python-py"
  },
  "language_info": {
   "codemirror_mode": {
    "name": "ipython",
    "version": 3
   },
   "file_extension": ".py",
   "mimetype": "text/x-python",
   "name": "python",
   "nbconvert_exporter": "python",
   "pygments_lexer": "ipython3",
   "version": "3.7.12"
  }
 },
 "nbformat": 4,
 "nbformat_minor": 5
}
